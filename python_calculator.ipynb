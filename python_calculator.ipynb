{
  "cells": [
    {
      "cell_type": "code",
      "execution_count": null,
      "metadata": {
        "id": "H1M8YzhGDgLj"
      },
      "outputs": [],
      "source": [
        "def add(x, y):\n",
        "  return x + y\n",
        "\n",
        "def subtract(x, y):\n",
        "  return x - y\n",
        "\n",
        "def multiply(x, y):\n",
        "  return x * y\n",
        "\n",
        "def divide(x, y):\n",
        "    if y == 0:\n",
        "        return \"Error: Division by zero\"\n",
        "    return x / y\n"
      ]
    },
    {
      "cell_type": "code",
      "execution_count": null,
      "metadata": {
        "id": "vdY4LubfGW0R"
      },
      "outputs": [],
      "source": [
        "operations = {\n",
        "    \"+\": add,\n",
        "    \"-\": subtract,\n",
        "    \"*\": multiply,\n",
        "    \"/\": divide\n",
        "}"
      ]
    },
    {
      "cell_type": "code",
      "execution_count": null,
      "metadata": {
        "colab": {
          "background_save": true,
          "base_uri": "https://localhost:8080/"
        },
        "id": "Z-YwbwzFJdtl",
        "outputId": "af036d64-8b11-4f8f-80e2-b2ea77f2b5d0"
      },
      "outputs": [
        {
          "name": "stdout",
          "output_type": "stream",
          "text": [
            "+\n",
            "-\n",
            "*\n",
            "/\n",
            "10.0 + 2.0 = 12.0\n",
            "12.0 - 6.0 = 6.0\n",
            "+\n",
            "-\n",
            "*\n",
            "/\n",
            "20.0 / 5.0 = 4.0\n",
            "4.0 * 2.0 = 8.0\n"
          ]
        }
      ],
      "source": [
        "def calculator():\n",
        "    should_continue = True\n",
        "    num1 = float(input(\"Enter the first number: \"))\n",
        "\n",
        "    for symbol in operations:\n",
        "        print(symbol)\n",
        "\n",
        "    while should_continue:\n",
        "        operation_symbol = input(\"Pick an operation: \")\n",
        "\n",
        "        if operation_symbol not in operations:\n",
        "            print(\"Invalid operation. Please choose a valid symbol.\")\n",
        "            continue\n",
        "\n",
        "        num2 = float(input(\"Enter the next number: \"))\n",
        "\n",
        "        calculation_function = operations[operation_symbol]\n",
        "        answer = calculation_function(num1, num2)\n",
        "\n",
        "        print(f\"{num1} {operation_symbol} {num2} = {answer}\")\n",
        "\n",
        "        continue_calculation = input(f\"Type 'y' to continue with {answer}, or 'n' to start a new calculation: \")\n",
        "\n",
        "        if continue_calculation == 'y':\n",
        "            num1 = answer\n",
        "        else:\n",
        "            should_continue = False\n",
        "            calculator()\n",
        "\n",
        "calculator()\n"
      ]
    }
  ],
  "metadata": {
    "colab": {
      "provenance": []
    },
    "kernelspec": {
      "display_name": "Python 3",
      "name": "python3"
    },
    "language_info": {
      "name": "python"
    }
  },
  "nbformat": 4,
  "nbformat_minor": 0
}